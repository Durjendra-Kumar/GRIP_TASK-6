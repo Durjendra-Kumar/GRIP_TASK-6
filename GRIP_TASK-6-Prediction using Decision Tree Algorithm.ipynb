{
 "cells": [
  {
   "cell_type": "markdown",
   "id": "20274303",
   "metadata": {},
   "source": [
    "# Name: Durjendra Kumar"
   ]
  },
  {
   "cell_type": "markdown",
   "id": "29fbb6ab",
   "metadata": {},
   "source": [
    "# Task 6: Prediction using Decision Tree Algorithm"
   ]
  },
  {
   "cell_type": "markdown",
   "id": "e40bebb1",
   "metadata": {},
   "source": [
    "# GRIP@TheSparkFoundation - Data Science and Business Analytics - October2022"
   ]
  },
  {
   "cell_type": "markdown",
   "id": "8059ed14",
   "metadata": {},
   "source": [
    "# Objective\n",
    "\n",
    "● Create the Decision Tree Classifier and visualize it graphically.\n",
    "\n",
    "● The purpose is if we feed any new data to this classifier, It would be able to predict the right class Accordingaly."
   ]
  },
  {
   "cell_type": "markdown",
   "id": "82cf480d",
   "metadata": {},
   "source": [
    "# Import the all required libraries."
   ]
  },
  {
   "cell_type": "code",
   "execution_count": null,
   "id": "2b5ceede",
   "metadata": {},
   "outputs": [],
   "source": [
    "import numpy as np \n",
    "import pandas as pd \n",
    "import matplotlib.pyplot as plt \n",
    "import seaborn as sns \n",
    "from sklearn.metrics import confusion_matrix \n",
    "from sklearn.tree import plot_tree \n",
    "import seaborn as sns"
   ]
  },
  {
   "cell_type": "markdown",
   "id": "c9e53a16",
   "metadata": {},
   "source": [
    "# Reading the data"
   ]
  },
  {
   "cell_type": "code",
   "execution_count": null,
   "id": "af25cc88",
   "metadata": {},
   "outputs": [],
   "source": [
    "dataset=pd.read_csv(\"C:/Users/91761/Desktop/csv1/iris.csv\")\n",
    "dataset.head(5)"
   ]
  },
  {
   "cell_type": "code",
   "execution_count": null,
   "id": "7ce19e0a",
   "metadata": {},
   "outputs": [],
   "source": [
    "sns.pairplot(data=dataset,hue=\"Species\") \n",
    "plt.show()"
   ]
  },
  {
   "cell_type": "code",
   "execution_count": null,
   "id": "a1b28ad5",
   "metadata": {},
   "outputs": [],
   "source": [
    "x=dataset.iloc[:,1:5]"
   ]
  },
  {
   "cell_type": "code",
   "execution_count": null,
   "id": "11ff07b7",
   "metadata": {},
   "outputs": [],
   "source": [
    "y=dataset.iloc[:,5:]"
   ]
  },
  {
   "cell_type": "code",
   "execution_count": null,
   "id": "b50f49d4",
   "metadata": {},
   "outputs": [],
   "source": [
    "from sklearn.preprocessing import LabelEncoder \n",
    "lmn=LabelEncoder() \n",
    "y=lmn.fit_transform(y)"
   ]
  },
  {
   "cell_type": "markdown",
   "id": "73fe8bc7",
   "metadata": {},
   "source": [
    "# Now let,s defining the Decision Tree Algorithm"
   ]
  },
  {
   "cell_type": "code",
   "execution_count": null,
   "id": "aef26361",
   "metadata": {},
   "outputs": [],
   "source": [
    "from sklearn.tree import DecisionTreeClassifier \n",
    "dtc=DecisionTreeClassifier()"
   ]
  },
  {
   "cell_type": "code",
   "execution_count": null,
   "id": "2e021432",
   "metadata": {},
   "outputs": [],
   "source": [
    "dtc.fit(x,y) \n",
    "print(\"Decision Tree Classifer Created\")"
   ]
  },
  {
   "cell_type": "markdown",
   "id": "cf7f8674",
   "metadata": {},
   "source": [
    "# Let,s visualize ths Decision Tree to understand it better."
   ]
  },
  {
   "cell_type": "code",
   "execution_count": null,
   "id": "e95cff06",
   "metadata": {},
   "outputs": [],
   "source": [
    "plt.figure(figsize=(20,20)) \n",
    "d_t=plot_tree(decision_tree=dtc,feature_names=dataset.columns,class_names=[\"setosa\",\"virginica\",\"versicolor\"],filled=True) \n",
    "plt.show()"
   ]
  },
  {
   "cell_type": "markdown",
   "id": "59d1251d",
   "metadata": {},
   "source": [
    "#### You can now feed any new/test data to this classifer and it would be able to predict the right class accordingly."
   ]
  }
 ],
 "metadata": {
  "kernelspec": {
   "display_name": "Python 3 (ipykernel)",
   "language": "python",
   "name": "python3"
  },
  "language_info": {
   "codemirror_mode": {
    "name": "ipython",
    "version": 3
   },
   "file_extension": ".py",
   "mimetype": "text/x-python",
   "name": "python",
   "nbconvert_exporter": "python",
   "pygments_lexer": "ipython3",
   "version": "3.8.12"
  }
 },
 "nbformat": 4,
 "nbformat_minor": 5
}
